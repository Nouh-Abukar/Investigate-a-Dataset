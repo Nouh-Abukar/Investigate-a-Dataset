{
 "cells": [
  {
   "cell_type": "markdown",
   "metadata": {},
   "source": [
    "# Project: Investigate European Football\n",
    "\n",
    "## Table of Contents\n",
    "<ul>\n",
    "<li><a href=\"#intro\">Introduction</a></li>\n",
    "<li><a href=\"#wrangling\">Data Wrangling</a></li>\n",
    "<li><a href=\"#eda\">Exploratory Data Analysis</a></li>\n",
    "<li><a href=\"#conclusions\">Conclusions</a></li>\n",
    "</ul>"
   ]
  },
  {
   "cell_type": "markdown",
   "metadata": {},
   "source": [
    "<a id='intro'></a>\n",
    "## Introduction\n",
    "\n",
    ">In this project, I have invesitgated European football players from 2008 to 2016.\n",
    "The questions used for the investigation: \n",
    " - Who are the top 5 players by overall score ? \n",
    " - Which player of the top 5 was the most improved ? \n",
    " - What are the characteristics that affect overall score ?"
   ]
  },
  {
   "cell_type": "code",
   "execution_count": 94,
   "metadata": {},
   "outputs": [],
   "source": [
    "# import all packages\n",
    "\n",
    "import pandas as pd\n",
    "import numpy as np\n",
    "import matplotlib.pyplot as plt\n",
    "%matplotlib inline \n"
   ]
  },
  {
   "cell_type": "code",
   "execution_count": 95,
   "metadata": {},
   "outputs": [
    {
     "name": "stdout",
     "output_type": "stream",
     "text": [
      "<class 'pandas.core.frame.DataFrame'>\n",
      "RangeIndex: 183978 entries, 0 to 183977\n",
      "Data columns (total 42 columns):\n",
      " #   Column               Non-Null Count   Dtype  \n",
      "---  ------               --------------   -----  \n",
      " 0   id                   183978 non-null  int64  \n",
      " 1   player_fifa_api_id   183978 non-null  int64  \n",
      " 2   player_api_id        183978 non-null  int64  \n",
      " 3   date                 183978 non-null  object \n",
      " 4   overall_rating       183142 non-null  float64\n",
      " 5   potential            183142 non-null  float64\n",
      " 6   preferred_foot       183142 non-null  object \n",
      " 7   attacking_work_rate  180748 non-null  object \n",
      " 8   defensive_work_rate  183142 non-null  object \n",
      " 9   crossing             183142 non-null  float64\n",
      " 10  finishing            183142 non-null  float64\n",
      " 11  heading_accuracy     183142 non-null  float64\n",
      " 12  short_passing        183142 non-null  float64\n",
      " 13  volleys              181265 non-null  float64\n",
      " 14  dribbling            183142 non-null  float64\n",
      " 15  curve                181265 non-null  float64\n",
      " 16  free_kick_accuracy   183142 non-null  float64\n",
      " 17  long_passing         183142 non-null  float64\n",
      " 18  ball_control         183142 non-null  float64\n",
      " 19  acceleration         183142 non-null  float64\n",
      " 20  sprint_speed         183142 non-null  float64\n",
      " 21  agility              181265 non-null  float64\n",
      " 22  reactions            183142 non-null  float64\n",
      " 23  balance              181265 non-null  float64\n",
      " 24  shot_power           183142 non-null  float64\n",
      " 25  jumping              181265 non-null  float64\n",
      " 26  stamina              183142 non-null  float64\n",
      " 27  strength             183142 non-null  float64\n",
      " 28  long_shots           183142 non-null  float64\n",
      " 29  aggression           183142 non-null  float64\n",
      " 30  interceptions        183142 non-null  float64\n",
      " 31  positioning          183142 non-null  float64\n",
      " 32  vision               181265 non-null  float64\n",
      " 33  penalties            183142 non-null  float64\n",
      " 34  marking              183142 non-null  float64\n",
      " 35  standing_tackle      183142 non-null  float64\n",
      " 36  sliding_tackle       181265 non-null  float64\n",
      " 37  gk_diving            183142 non-null  float64\n",
      " 38  gk_handling          183142 non-null  float64\n",
      " 39  gk_kicking           183142 non-null  float64\n",
      " 40  gk_positioning       183142 non-null  float64\n",
      " 41  gk_reflexes          183142 non-null  float64\n",
      "dtypes: float64(35), int64(3), object(4)\n",
      "memory usage: 59.0+ MB\n"
     ]
    }
   ],
   "source": [
    "#load dataset and asses\n",
    "df_players_attributes= pd.read_csv('Player_Attributes.csv')\n",
    "df_players_attributes.info()\n"
   ]
  },
  {
   "cell_type": "code",
   "execution_count": 96,
   "metadata": {},
   "outputs": [
    {
     "data": {
      "text/plain": [
       "(183978, 42)"
      ]
     },
     "execution_count": 96,
     "metadata": {},
     "output_type": "execute_result"
    }
   ],
   "source": [
    "#check number of rows and columns \n",
    "df_players_attributes.shape"
   ]
  },
  {
   "cell_type": "code",
   "execution_count": 97,
   "metadata": {},
   "outputs": [
    {
     "name": "stdout",
     "output_type": "stream",
     "text": [
      "<class 'pandas.core.frame.DataFrame'>\n",
      "RangeIndex: 11060 entries, 0 to 11059\n",
      "Data columns (total 7 columns):\n",
      " #   Column              Non-Null Count  Dtype  \n",
      "---  ------              --------------  -----  \n",
      " 0   id                  11060 non-null  int64  \n",
      " 1   player_api_id       11060 non-null  int64  \n",
      " 2   player_name         11060 non-null  object \n",
      " 3   player_fifa_api_id  11060 non-null  int64  \n",
      " 4   birthday            11060 non-null  object \n",
      " 5   height              11060 non-null  float64\n",
      " 6   weight              11060 non-null  int64  \n",
      "dtypes: float64(1), int64(4), object(2)\n",
      "memory usage: 605.0+ KB\n"
     ]
    }
   ],
   "source": [
    "#load dataset and asses\n",
    "df_players = pd.read_csv('Player.csv')\n",
    "df_players.info()"
   ]
  },
  {
   "cell_type": "code",
   "execution_count": 98,
   "metadata": {},
   "outputs": [
    {
     "data": {
      "text/plain": [
       "(11060, 7)"
      ]
     },
     "execution_count": 98,
     "metadata": {},
     "output_type": "execute_result"
    }
   ],
   "source": [
    "#check number of rows and columns\n",
    "df_players.shape"
   ]
  },
  {
   "cell_type": "code",
   "execution_count": 99,
   "metadata": {},
   "outputs": [
    {
     "data": {
      "text/plain": [
       "id                        0\n",
       "player_fifa_api_id        0\n",
       "player_api_id             0\n",
       "date                      0\n",
       "overall_rating          836\n",
       "potential               836\n",
       "preferred_foot          836\n",
       "attacking_work_rate    3230\n",
       "defensive_work_rate     836\n",
       "crossing                836\n",
       "finishing               836\n",
       "heading_accuracy        836\n",
       "short_passing           836\n",
       "volleys                2713\n",
       "dribbling               836\n",
       "curve                  2713\n",
       "free_kick_accuracy      836\n",
       "long_passing            836\n",
       "ball_control            836\n",
       "acceleration            836\n",
       "sprint_speed            836\n",
       "agility                2713\n",
       "reactions               836\n",
       "balance                2713\n",
       "shot_power              836\n",
       "jumping                2713\n",
       "stamina                 836\n",
       "strength                836\n",
       "long_shots              836\n",
       "aggression              836\n",
       "interceptions           836\n",
       "positioning             836\n",
       "vision                 2713\n",
       "penalties               836\n",
       "marking                 836\n",
       "standing_tackle         836\n",
       "sliding_tackle         2713\n",
       "gk_diving               836\n",
       "gk_handling             836\n",
       "gk_kicking              836\n",
       "gk_positioning          836\n",
       "gk_reflexes             836\n",
       "dtype: int64"
      ]
     },
     "execution_count": 99,
     "metadata": {},
     "output_type": "execute_result"
    }
   ],
   "source": [
    "#check for columns that have missing values\n",
    "df_players_attributes.isnull().sum()"
   ]
  },
  {
   "cell_type": "code",
   "execution_count": 100,
   "metadata": {},
   "outputs": [
    {
     "data": {
      "text/plain": [
       "id                    0\n",
       "player_api_id         0\n",
       "player_name           0\n",
       "player_fifa_api_id    0\n",
       "birthday              0\n",
       "height                0\n",
       "weight                0\n",
       "dtype: int64"
      ]
     },
     "execution_count": 100,
     "metadata": {},
     "output_type": "execute_result"
    }
   ],
   "source": [
    "#check for columns that have missing values\n",
    "df_players.isnull().sum()"
   ]
  },
  {
   "cell_type": "code",
   "execution_count": 101,
   "metadata": {},
   "outputs": [
    {
     "data": {
      "text/plain": [
       "11060"
      ]
     },
     "execution_count": 101,
     "metadata": {},
     "output_type": "execute_result"
    }
   ],
   "source": [
    "#check for unique players\n",
    "df_players.player_fifa_api_id.nunique()"
   ]
  },
  {
   "cell_type": "code",
   "execution_count": 102,
   "metadata": {},
   "outputs": [
    {
     "data": {
      "text/plain": [
       "11062"
      ]
     },
     "execution_count": 102,
     "metadata": {},
     "output_type": "execute_result"
    }
   ],
   "source": [
    "#check for unique players\n",
    "df_players_attributes.player_fifa_api_id.nunique()"
   ]
  },
  {
   "cell_type": "code",
   "execution_count": 103,
   "metadata": {},
   "outputs": [
    {
     "data": {
      "text/plain": [
       "Index([], dtype='object')"
      ]
     },
     "execution_count": 103,
     "metadata": {},
     "output_type": "execute_result"
    }
   ],
   "source": [
    "#check for columns with missing values \n",
    "df_players.columns[df_players.isnull().any()]"
   ]
  },
  {
   "cell_type": "code",
   "execution_count": 104,
   "metadata": {},
   "outputs": [
    {
     "data": {
      "text/plain": [
       "Index(['overall_rating', 'potential', 'preferred_foot', 'attacking_work_rate',\n",
       "       'defensive_work_rate', 'crossing', 'finishing', 'heading_accuracy',\n",
       "       'short_passing', 'volleys', 'dribbling', 'curve', 'free_kick_accuracy',\n",
       "       'long_passing', 'ball_control', 'acceleration', 'sprint_speed',\n",
       "       'agility', 'reactions', 'balance', 'shot_power', 'jumping', 'stamina',\n",
       "       'strength', 'long_shots', 'aggression', 'interceptions', 'positioning',\n",
       "       'vision', 'penalties', 'marking', 'standing_tackle', 'sliding_tackle',\n",
       "       'gk_diving', 'gk_handling', 'gk_kicking', 'gk_positioning',\n",
       "       'gk_reflexes'],\n",
       "      dtype='object')"
      ]
     },
     "execution_count": 104,
     "metadata": {},
     "output_type": "execute_result"
    }
   ],
   "source": [
    "#check for columns with missing values\n",
    "df_players_attributes.columns[df_players_attributes.isnull().any()]"
   ]
  },
  {
   "cell_type": "markdown",
   "metadata": {},
   "source": [
    " - No. of columns in each dataset: 7 (Players), 42 (Player Attributes)\n",
    " - No. of columns with missing values: 0 (Players), 38 (Player Attributes)\n",
    " - No. of unique footballers the both datasets: 11060 (Player), 11060 (Players Attributes)\n"
   ]
  },
  {
   "cell_type": "code",
   "execution_count": 105,
   "metadata": {},
   "outputs": [],
   "source": [
    "# merge df_players_attributes to df_players to a new dataframe named df_player_ratings\n",
    "df_player_ratings = pd.merge(df_players_attributes,\n",
    "                             df_players[[\n",
    "                                 'id', 'player_api_id', 'player_name',\n",
    "                                 'player_fifa_api_id', 'birthday', 'height',\n",
    "                                 'weight'\n",
    "]],\n",
    "                             on='player_api_id')\n"
   ]
  },
  {
   "cell_type": "code",
   "execution_count": 106,
   "metadata": {},
   "outputs": [
    {
     "data": {
      "text/plain": [
       "(183978, 48)"
      ]
     },
     "execution_count": 106,
     "metadata": {},
     "output_type": "execute_result"
    }
   ],
   "source": [
    "#check number of rows and columns\n",
    "df_player_ratings.shape"
   ]
  },
  {
   "cell_type": "code",
   "execution_count": 107,
   "metadata": {},
   "outputs": [
    {
     "name": "stdout",
     "output_type": "stream",
     "text": [
      "<class 'pandas.core.frame.DataFrame'>\n",
      "Int64Index: 183978 entries, 0 to 183977\n",
      "Data columns (total 48 columns):\n",
      " #   Column                Non-Null Count   Dtype  \n",
      "---  ------                --------------   -----  \n",
      " 0   id_x                  183978 non-null  int64  \n",
      " 1   player_fifa_api_id_x  183978 non-null  int64  \n",
      " 2   player_api_id         183978 non-null  int64  \n",
      " 3   date                  183978 non-null  object \n",
      " 4   overall_rating        183142 non-null  float64\n",
      " 5   potential             183142 non-null  float64\n",
      " 6   preferred_foot        183142 non-null  object \n",
      " 7   attacking_work_rate   180748 non-null  object \n",
      " 8   defensive_work_rate   183142 non-null  object \n",
      " 9   crossing              183142 non-null  float64\n",
      " 10  finishing             183142 non-null  float64\n",
      " 11  heading_accuracy      183142 non-null  float64\n",
      " 12  short_passing         183142 non-null  float64\n",
      " 13  volleys               181265 non-null  float64\n",
      " 14  dribbling             183142 non-null  float64\n",
      " 15  curve                 181265 non-null  float64\n",
      " 16  free_kick_accuracy    183142 non-null  float64\n",
      " 17  long_passing          183142 non-null  float64\n",
      " 18  ball_control          183142 non-null  float64\n",
      " 19  acceleration          183142 non-null  float64\n",
      " 20  sprint_speed          183142 non-null  float64\n",
      " 21  agility               181265 non-null  float64\n",
      " 22  reactions             183142 non-null  float64\n",
      " 23  balance               181265 non-null  float64\n",
      " 24  shot_power            183142 non-null  float64\n",
      " 25  jumping               181265 non-null  float64\n",
      " 26  stamina               183142 non-null  float64\n",
      " 27  strength              183142 non-null  float64\n",
      " 28  long_shots            183142 non-null  float64\n",
      " 29  aggression            183142 non-null  float64\n",
      " 30  interceptions         183142 non-null  float64\n",
      " 31  positioning           183142 non-null  float64\n",
      " 32  vision                181265 non-null  float64\n",
      " 33  penalties             183142 non-null  float64\n",
      " 34  marking               183142 non-null  float64\n",
      " 35  standing_tackle       183142 non-null  float64\n",
      " 36  sliding_tackle        181265 non-null  float64\n",
      " 37  gk_diving             183142 non-null  float64\n",
      " 38  gk_handling           183142 non-null  float64\n",
      " 39  gk_kicking            183142 non-null  float64\n",
      " 40  gk_positioning        183142 non-null  float64\n",
      " 41  gk_reflexes           183142 non-null  float64\n",
      " 42  id_y                  183978 non-null  int64  \n",
      " 43  player_name           183978 non-null  object \n",
      " 44  player_fifa_api_id_y  183978 non-null  int64  \n",
      " 45  birthday              183978 non-null  object \n",
      " 46  height                183978 non-null  float64\n",
      " 47  weight                183978 non-null  int64  \n",
      "dtypes: float64(36), int64(6), object(6)\n",
      "memory usage: 68.8+ MB\n"
     ]
    }
   ],
   "source": [
    "#check df_player_ratings date column date is an object\n",
    "df_player_ratings.info()"
   ]
  },
  {
   "cell_type": "code",
   "execution_count": 108,
   "metadata": {},
   "outputs": [],
   "source": [
    "#change the date column to datetime type using pandas' .to_datetime() method\n",
    "df_player_ratings['date']=pd.to_datetime(df_player_ratings['date'])"
   ]
  },
  {
   "cell_type": "code",
   "execution_count": 109,
   "metadata": {},
   "outputs": [
    {
     "name": "stdout",
     "output_type": "stream",
     "text": [
      "<class 'pandas.core.frame.DataFrame'>\n",
      "Int64Index: 183978 entries, 0 to 183977\n",
      "Data columns (total 48 columns):\n",
      " #   Column                Non-Null Count   Dtype         \n",
      "---  ------                --------------   -----         \n",
      " 0   id_x                  183978 non-null  int64         \n",
      " 1   player_fifa_api_id_x  183978 non-null  int64         \n",
      " 2   player_api_id         183978 non-null  int64         \n",
      " 3   date                  183978 non-null  datetime64[ns]\n",
      " 4   overall_rating        183142 non-null  float64       \n",
      " 5   potential             183142 non-null  float64       \n",
      " 6   preferred_foot        183142 non-null  object        \n",
      " 7   attacking_work_rate   180748 non-null  object        \n",
      " 8   defensive_work_rate   183142 non-null  object        \n",
      " 9   crossing              183142 non-null  float64       \n",
      " 10  finishing             183142 non-null  float64       \n",
      " 11  heading_accuracy      183142 non-null  float64       \n",
      " 12  short_passing         183142 non-null  float64       \n",
      " 13  volleys               181265 non-null  float64       \n",
      " 14  dribbling             183142 non-null  float64       \n",
      " 15  curve                 181265 non-null  float64       \n",
      " 16  free_kick_accuracy    183142 non-null  float64       \n",
      " 17  long_passing          183142 non-null  float64       \n",
      " 18  ball_control          183142 non-null  float64       \n",
      " 19  acceleration          183142 non-null  float64       \n",
      " 20  sprint_speed          183142 non-null  float64       \n",
      " 21  agility               181265 non-null  float64       \n",
      " 22  reactions             183142 non-null  float64       \n",
      " 23  balance               181265 non-null  float64       \n",
      " 24  shot_power            183142 non-null  float64       \n",
      " 25  jumping               181265 non-null  float64       \n",
      " 26  stamina               183142 non-null  float64       \n",
      " 27  strength              183142 non-null  float64       \n",
      " 28  long_shots            183142 non-null  float64       \n",
      " 29  aggression            183142 non-null  float64       \n",
      " 30  interceptions         183142 non-null  float64       \n",
      " 31  positioning           183142 non-null  float64       \n",
      " 32  vision                181265 non-null  float64       \n",
      " 33  penalties             183142 non-null  float64       \n",
      " 34  marking               183142 non-null  float64       \n",
      " 35  standing_tackle       183142 non-null  float64       \n",
      " 36  sliding_tackle        181265 non-null  float64       \n",
      " 37  gk_diving             183142 non-null  float64       \n",
      " 38  gk_handling           183142 non-null  float64       \n",
      " 39  gk_kicking            183142 non-null  float64       \n",
      " 40  gk_positioning        183142 non-null  float64       \n",
      " 41  gk_reflexes           183142 non-null  float64       \n",
      " 42  id_y                  183978 non-null  int64         \n",
      " 43  player_name           183978 non-null  object        \n",
      " 44  player_fifa_api_id_y  183978 non-null  int64         \n",
      " 45  birthday              183978 non-null  object        \n",
      " 46  height                183978 non-null  float64       \n",
      " 47  weight                183978 non-null  int64         \n",
      "dtypes: datetime64[ns](1), float64(36), int64(6), object(5)\n",
      "memory usage: 68.8+ MB\n"
     ]
    }
   ],
   "source": [
    "#check the date column is datetime\n",
    "df_player_ratings.info()"
   ]
  },
  {
   "cell_type": "code",
   "execution_count": 110,
   "metadata": {},
   "outputs": [
    {
     "data": {
      "text/plain": [
       "player_api_id\n",
       "2625     2015-01-16\n",
       "2752     2015-10-16\n",
       "2768     2016-03-17\n",
       "2770     2013-07-05\n",
       "2790     2010-08-30\n",
       "            ...    \n",
       "744907   2016-06-09\n",
       "746419   2016-05-12\n",
       "748432   2016-05-12\n",
       "750435   2016-04-14\n",
       "750584   2016-05-19\n",
       "Name: date, Length: 11060, dtype: datetime64[ns]"
      ]
     },
     "execution_count": 110,
     "metadata": {},
     "output_type": "execute_result"
    }
   ],
   "source": [
    "#group players by date\n",
    "df_player_ratings.groupby('player_api_id')['date'].max()"
   ]
  },
  {
   "cell_type": "code",
   "execution_count": 111,
   "metadata": {},
   "outputs": [
    {
     "data": {
      "text/plain": [
       "player_api_id\n",
       "2625      139843\n",
       "2752       44144\n",
       "2768       88284\n",
       "2770       72141\n",
       "2790        5121\n",
       "           ...  \n",
       "744907     66601\n",
       "746419     58304\n",
       "748432     60179\n",
       "750435    147408\n",
       "750584      8085\n",
       "Name: date, Length: 11060, dtype: int64"
      ]
     },
     "execution_count": 111,
     "metadata": {},
     "output_type": "execute_result"
    }
   ],
   "source": [
    "#get the most recent date\n",
    "df_player_ratings.groupby('player_api_id')['date'].idxmax()"
   ]
  },
  {
   "cell_type": "code",
   "execution_count": 112,
   "metadata": {},
   "outputs": [],
   "source": [
    "#index to filter orginal df_player_ratings to include max values for each player\n",
    "index = df_player_ratings.groupby('player_api_id')['date'].idxmax().values"
   ]
  },
  {
   "cell_type": "code",
   "execution_count": 113,
   "metadata": {},
   "outputs": [],
   "source": [
    "#define the a new data frame\n",
    "df_recent_player_rating = df_player_ratings.loc[index].copy()"
   ]
  },
  {
   "cell_type": "markdown",
   "metadata": {},
   "source": [
    "<a id='eda'></a>\n",
    "## Exploratory Data Analysis\n",
    "\n",
    "### Research Question 1) Top 5 players by overall score"
   ]
  },
  {
   "cell_type": "code",
   "execution_count": 114,
   "metadata": {},
   "outputs": [
    {
     "data": {
      "text/html": [
       "<div>\n",
       "<style scoped>\n",
       "    .dataframe tbody tr th:only-of-type {\n",
       "        vertical-align: middle;\n",
       "    }\n",
       "\n",
       "    .dataframe tbody tr th {\n",
       "        vertical-align: top;\n",
       "    }\n",
       "\n",
       "    .dataframe thead th {\n",
       "        text-align: right;\n",
       "    }\n",
       "</style>\n",
       "<table border=\"1\" class=\"dataframe\">\n",
       "  <thead>\n",
       "    <tr style=\"text-align: right;\">\n",
       "      <th></th>\n",
       "      <th>id_x</th>\n",
       "      <th>player_fifa_api_id_x</th>\n",
       "      <th>player_api_id</th>\n",
       "      <th>date</th>\n",
       "      <th>overall_rating</th>\n",
       "      <th>potential</th>\n",
       "      <th>preferred_foot</th>\n",
       "      <th>attacking_work_rate</th>\n",
       "      <th>defensive_work_rate</th>\n",
       "      <th>crossing</th>\n",
       "      <th>...</th>\n",
       "      <th>gk_handling</th>\n",
       "      <th>gk_kicking</th>\n",
       "      <th>gk_positioning</th>\n",
       "      <th>gk_reflexes</th>\n",
       "      <th>id_y</th>\n",
       "      <th>player_name</th>\n",
       "      <th>player_fifa_api_id_y</th>\n",
       "      <th>birthday</th>\n",
       "      <th>height</th>\n",
       "      <th>weight</th>\n",
       "    </tr>\n",
       "  </thead>\n",
       "  <tbody>\n",
       "    <tr>\n",
       "      <th>102482</th>\n",
       "      <td>102483</td>\n",
       "      <td>158023</td>\n",
       "      <td>30981</td>\n",
       "      <td>2015-12-17</td>\n",
       "      <td>94.0</td>\n",
       "      <td>94.0</td>\n",
       "      <td>left</td>\n",
       "      <td>medium</td>\n",
       "      <td>low</td>\n",
       "      <td>80.0</td>\n",
       "      <td>...</td>\n",
       "      <td>11.0</td>\n",
       "      <td>15.0</td>\n",
       "      <td>14.0</td>\n",
       "      <td>8.0</td>\n",
       "      <td>6176</td>\n",
       "      <td>Lionel Messi</td>\n",
       "      <td>158023</td>\n",
       "      <td>1987-06-24 00:00:00</td>\n",
       "      <td>170.18</td>\n",
       "      <td>159</td>\n",
       "    </tr>\n",
       "    <tr>\n",
       "      <th>33330</th>\n",
       "      <td>33331</td>\n",
       "      <td>20801</td>\n",
       "      <td>30893</td>\n",
       "      <td>2015-10-16</td>\n",
       "      <td>93.0</td>\n",
       "      <td>93.0</td>\n",
       "      <td>right</td>\n",
       "      <td>high</td>\n",
       "      <td>low</td>\n",
       "      <td>82.0</td>\n",
       "      <td>...</td>\n",
       "      <td>11.0</td>\n",
       "      <td>15.0</td>\n",
       "      <td>14.0</td>\n",
       "      <td>11.0</td>\n",
       "      <td>1995</td>\n",
       "      <td>Cristiano Ronaldo</td>\n",
       "      <td>20801</td>\n",
       "      <td>1985-02-05 00:00:00</td>\n",
       "      <td>185.42</td>\n",
       "      <td>176</td>\n",
       "    </tr>\n",
       "    <tr>\n",
       "      <th>105983</th>\n",
       "      <td>105984</td>\n",
       "      <td>176580</td>\n",
       "      <td>40636</td>\n",
       "      <td>2015-10-16</td>\n",
       "      <td>90.0</td>\n",
       "      <td>90.0</td>\n",
       "      <td>right</td>\n",
       "      <td>high</td>\n",
       "      <td>medium</td>\n",
       "      <td>77.0</td>\n",
       "      <td>...</td>\n",
       "      <td>25.0</td>\n",
       "      <td>31.0</td>\n",
       "      <td>33.0</td>\n",
       "      <td>37.0</td>\n",
       "      <td>6377</td>\n",
       "      <td>Luis Suarez</td>\n",
       "      <td>176580</td>\n",
       "      <td>1987-01-24 00:00:00</td>\n",
       "      <td>182.88</td>\n",
       "      <td>187</td>\n",
       "    </tr>\n",
       "    <tr>\n",
       "      <th>131464</th>\n",
       "      <td>131465</td>\n",
       "      <td>190871</td>\n",
       "      <td>19533</td>\n",
       "      <td>2016-02-04</td>\n",
       "      <td>90.0</td>\n",
       "      <td>94.0</td>\n",
       "      <td>right</td>\n",
       "      <td>high</td>\n",
       "      <td>medium</td>\n",
       "      <td>72.0</td>\n",
       "      <td>...</td>\n",
       "      <td>9.0</td>\n",
       "      <td>15.0</td>\n",
       "      <td>15.0</td>\n",
       "      <td>11.0</td>\n",
       "      <td>7867</td>\n",
       "      <td>Neymar</td>\n",
       "      <td>190871</td>\n",
       "      <td>1992-02-05 00:00:00</td>\n",
       "      <td>175.26</td>\n",
       "      <td>150</td>\n",
       "    </tr>\n",
       "    <tr>\n",
       "      <th>109033</th>\n",
       "      <td>109034</td>\n",
       "      <td>167495</td>\n",
       "      <td>27299</td>\n",
       "      <td>2016-04-21</td>\n",
       "      <td>90.0</td>\n",
       "      <td>90.0</td>\n",
       "      <td>right</td>\n",
       "      <td>medium</td>\n",
       "      <td>medium</td>\n",
       "      <td>15.0</td>\n",
       "      <td>...</td>\n",
       "      <td>87.0</td>\n",
       "      <td>91.0</td>\n",
       "      <td>90.0</td>\n",
       "      <td>87.0</td>\n",
       "      <td>6556</td>\n",
       "      <td>Manuel Neuer</td>\n",
       "      <td>167495</td>\n",
       "      <td>1986-03-27 00:00:00</td>\n",
       "      <td>193.04</td>\n",
       "      <td>203</td>\n",
       "    </tr>\n",
       "  </tbody>\n",
       "</table>\n",
       "<p>5 rows × 48 columns</p>\n",
       "</div>"
      ],
      "text/plain": [
       "          id_x  player_fifa_api_id_x  player_api_id       date  \\\n",
       "102482  102483                158023          30981 2015-12-17   \n",
       "33330    33331                 20801          30893 2015-10-16   \n",
       "105983  105984                176580          40636 2015-10-16   \n",
       "131464  131465                190871          19533 2016-02-04   \n",
       "109033  109034                167495          27299 2016-04-21   \n",
       "\n",
       "        overall_rating  potential preferred_foot attacking_work_rate  \\\n",
       "102482            94.0       94.0           left              medium   \n",
       "33330             93.0       93.0          right                high   \n",
       "105983            90.0       90.0          right                high   \n",
       "131464            90.0       94.0          right                high   \n",
       "109033            90.0       90.0          right              medium   \n",
       "\n",
       "       defensive_work_rate  crossing  ...  gk_handling  gk_kicking  \\\n",
       "102482                 low      80.0  ...         11.0        15.0   \n",
       "33330                  low      82.0  ...         11.0        15.0   \n",
       "105983              medium      77.0  ...         25.0        31.0   \n",
       "131464              medium      72.0  ...          9.0        15.0   \n",
       "109033              medium      15.0  ...         87.0        91.0   \n",
       "\n",
       "        gk_positioning  gk_reflexes  id_y        player_name  \\\n",
       "102482            14.0          8.0  6176       Lionel Messi   \n",
       "33330             14.0         11.0  1995  Cristiano Ronaldo   \n",
       "105983            33.0         37.0  6377        Luis Suarez   \n",
       "131464            15.0         11.0  7867             Neymar   \n",
       "109033            90.0         87.0  6556       Manuel Neuer   \n",
       "\n",
       "        player_fifa_api_id_y             birthday  height  weight  \n",
       "102482                158023  1987-06-24 00:00:00  170.18     159  \n",
       "33330                  20801  1985-02-05 00:00:00  185.42     176  \n",
       "105983                176580  1987-01-24 00:00:00  182.88     187  \n",
       "131464                190871  1992-02-05 00:00:00  175.26     150  \n",
       "109033                167495  1986-03-27 00:00:00  193.04     203  \n",
       "\n",
       "[5 rows x 48 columns]"
      ]
     },
     "execution_count": 114,
     "metadata": {},
     "output_type": "execute_result"
    }
   ],
   "source": [
    "df_recent_player_rating.sort_values(by=['overall_rating'], ascending=False).head(5)"
   ]
  },
  {
   "cell_type": "code",
   "execution_count": 115,
   "metadata": {},
   "outputs": [],
   "source": [
    "df_top5 = df_recent_player_rating.sort_values(by=['overall_rating'],ascending=False).head(5)\n"
   ]
  },
  {
   "cell_type": "code",
   "execution_count": 116,
   "metadata": {},
   "outputs": [
    {
     "data": {
      "text/plain": [
       "<AxesSubplot:xlabel='player_name'>"
      ]
     },
     "execution_count": 116,
     "metadata": {},
     "output_type": "execute_result"
    },
    {
     "data": {
      "image/png": "[encoded data removed]",
      "text/plain": [
       "<Figure size 432x288 with 1 Axes>"
      ]
     },
     "metadata": {
      "needs_background": "light"
     },
     "output_type": "display_data"
    }
   ],
   "source": [
    "df_top5.plot.bar(x='player_name', y='overall_rating', rot=0)"
   ]
  },
  {
   "cell_type": "code",
   "execution_count": 117,
   "metadata": {},
   "outputs": [],
   "source": [
    "#Top 5 players Lionel Messi, Cristiano Ronaldo, Luis Suarez, Neymar, Manuel Neuer"
   ]
  },
  {
   "cell_type": "markdown",
   "metadata": {},
   "source": [
    "### Research Question 2) Most Improved player"
   ]
  },
  {
   "cell_type": "code",
   "execution_count": 118,
   "metadata": {},
   "outputs": [],
   "source": [
    "#define season from datetime\n",
    "def to_season(date):\n",
    "    if date.month >= 7:\n",
    "        return str(date.year) + \"/\" + str(date.year + 1)\n",
    "    else:\n",
    "        return str(date.year - 1) + \"/\" + str(date.year)\n"
   ]
  },
  {
   "cell_type": "code",
   "execution_count": 119,
   "metadata": {},
   "outputs": [],
   "source": [
    "#add season to dataframe\n",
    "df_player_ratings['season'] = df_player_ratings['date'].apply(lambda t: to_season(t))"
   ]
  },
  {
   "cell_type": "code",
   "execution_count": 120,
   "metadata": {},
   "outputs": [],
   "source": [
    "#Lionel messi improvement\n",
    "df_messi_rating = df_player_ratings.loc[df_player_ratings['player_fifa_api_id_x'] == 158023]"
   ]
  },
  {
   "cell_type": "code",
   "execution_count": 121,
   "metadata": {},
   "outputs": [
    {
     "data": {
      "image/png": "[encoded data removed]",
      "text/plain": [
       "<Figure size 432x288 with 1 Axes>"
      ]
     },
     "metadata": {
      "needs_background": "light"
     },
     "output_type": "display_data"
    }
   ],
   "source": [
    "df_messi_rating.plot(x='season', y='overall_rating',kind='line',title= 'Messi overall rating').invert_xaxis()\n"
   ]
  },
  {
   "cell_type": "code",
   "execution_count": 122,
   "metadata": {},
   "outputs": [],
   "source": [
    "messi_season_rating = df_messi_rating.groupby('season')['overall_rating'].mean()\n"
   ]
  },
  {
   "cell_type": "code",
   "execution_count": 123,
   "metadata": {},
   "outputs": [
    {
     "data": {
      "text/plain": [
       "season\n",
       "2006/2007    85.0\n",
       "2007/2008    86.0\n",
       "2008/2009    90.0\n",
       "2009/2010    90.0\n",
       "2010/2011    90.0\n",
       "2011/2012    94.0\n",
       "2012/2013    94.0\n",
       "2013/2014    94.0\n",
       "2014/2015    93.0\n",
       "2015/2016    94.0\n",
       "Name: overall_rating, dtype: float64"
      ]
     },
     "execution_count": 123,
     "metadata": {},
     "output_type": "execute_result"
    }
   ],
   "source": [
    "messi_season_rating"
   ]
  },
  {
   "cell_type": "code",
   "execution_count": 124,
   "metadata": {},
   "outputs": [
    {
     "data": {
      "text/plain": [
       "9.0"
      ]
     },
     "execution_count": 124,
     "metadata": {},
     "output_type": "execute_result"
    }
   ],
   "source": [
    "messi_season_rating.max() - messi_season_rating.min()"
   ]
  },
  {
   "cell_type": "code",
   "execution_count": 125,
   "metadata": {},
   "outputs": [],
   "source": [
    "df_Ronaldo_rating = df_player_ratings.loc[df_player_ratings['player_fifa_api_id_x'] == 20801]\n"
   ]
  },
  {
   "cell_type": "code",
   "execution_count": 126,
   "metadata": {},
   "outputs": [
    {
     "data": {
      "image/png": "[encoded data removed]",
      "text/plain": [
       "<Figure size 432x288 with 1 Axes>"
      ]
     },
     "metadata": {
      "needs_background": "light"
     },
     "output_type": "display_data"
    }
   ],
   "source": [
    "df_Ronaldo_rating.plot(x='season', y='overall_rating',kind='line').invert_xaxis()\n"
   ]
  },
  {
   "cell_type": "code",
   "execution_count": 127,
   "metadata": {},
   "outputs": [],
   "source": [
    "Ronaldo_season_rating = df_Ronaldo_rating.groupby('season')['overall_rating'].mean()\n"
   ]
  },
  {
   "cell_type": "code",
   "execution_count": 128,
   "metadata": {},
   "outputs": [
    {
     "data": {
      "text/plain": [
       "season\n",
       "2006/2007    87.0\n",
       "2007/2008    91.0\n",
       "2008/2009    90.5\n",
       "2009/2010    89.0\n",
       "2010/2011    89.0\n",
       "2011/2012    92.0\n",
       "2012/2013    92.0\n",
       "2013/2014    92.0\n",
       "2014/2015    92.0\n",
       "2015/2016    93.0\n",
       "Name: overall_rating, dtype: float64"
      ]
     },
     "execution_count": 128,
     "metadata": {},
     "output_type": "execute_result"
    }
   ],
   "source": [
    "Ronaldo_season_rating"
   ]
  },
  {
   "cell_type": "code",
   "execution_count": 129,
   "metadata": {},
   "outputs": [
    {
     "data": {
      "text/plain": [
       "6.0"
      ]
     },
     "execution_count": 129,
     "metadata": {},
     "output_type": "execute_result"
    }
   ],
   "source": [
    "Ronaldo_season_rating.max() - Ronaldo_season_rating.min()"
   ]
  },
  {
   "cell_type": "code",
   "execution_count": 130,
   "metadata": {},
   "outputs": [],
   "source": [
    "df_Suarez_rating = df_player_ratings.loc[df_player_ratings['player_fifa_api_id_x'] == 176580]\n"
   ]
  },
  {
   "cell_type": "code",
   "execution_count": 131,
   "metadata": {},
   "outputs": [
    {
     "data": {
      "image/png": "[encoded data removed]",
      "text/plain": [
       "<Figure size 432x288 with 1 Axes>"
      ]
     },
     "metadata": {
      "needs_background": "light"
     },
     "output_type": "display_data"
    }
   ],
   "source": [
    "df_Suarez_rating.plot(x='season', y='overall_rating',kind='line').invert_xaxis()\n"
   ]
  },
  {
   "cell_type": "code",
   "execution_count": 132,
   "metadata": {},
   "outputs": [],
   "source": [
    "Suarez_season_rating = df_Suarez_rating.groupby('season')['overall_rating'].mean()\n"
   ]
  },
  {
   "cell_type": "code",
   "execution_count": 133,
   "metadata": {},
   "outputs": [
    {
     "data": {
      "text/plain": [
       "season\n",
       "2006/2007    61.000000\n",
       "2007/2008    72.000000\n",
       "2008/2009    76.500000\n",
       "2009/2010    82.500000\n",
       "2010/2011    82.000000\n",
       "2011/2012    85.500000\n",
       "2012/2013    85.777778\n",
       "2013/2014    87.363636\n",
       "2014/2015    89.000000\n",
       "2015/2016    90.000000\n",
       "Name: overall_rating, dtype: float64"
      ]
     },
     "execution_count": 133,
     "metadata": {},
     "output_type": "execute_result"
    }
   ],
   "source": [
    "Suarez_season_rating"
   ]
  },
  {
   "cell_type": "code",
   "execution_count": 134,
   "metadata": {},
   "outputs": [
    {
     "data": {
      "text/plain": [
       "29.0"
      ]
     },
     "execution_count": 134,
     "metadata": {},
     "output_type": "execute_result"
    }
   ],
   "source": [
    "Suarez_season_rating.max() - Suarez_season_rating.min()"
   ]
  },
  {
   "cell_type": "code",
   "execution_count": 135,
   "metadata": {},
   "outputs": [],
   "source": [
    "df_neymar_rating = df_player_ratings.loc[df_player_ratings['player_fifa_api_id_x'] == 190871]\n"
   ]
  },
  {
   "cell_type": "code",
   "execution_count": 136,
   "metadata": {},
   "outputs": [
    {
     "data": {
      "image/png": "[encoded data removed]",
      "text/plain": [
       "<Figure size 432x288 with 1 Axes>"
      ]
     },
     "metadata": {
      "needs_background": "light"
     },
     "output_type": "display_data"
    }
   ],
   "source": [
    "df_neymar_rating.plot(x='season', y='overall_rating',kind='line').invert_xaxis()\n"
   ]
  },
  {
   "cell_type": "code",
   "execution_count": 137,
   "metadata": {},
   "outputs": [],
   "source": [
    "neymar_season_rating = df_neymar_rating.groupby('season')['overall_rating'].mean()\n"
   ]
  },
  {
   "cell_type": "code",
   "execution_count": 138,
   "metadata": {},
   "outputs": [
    {
     "data": {
      "text/plain": [
       "season\n",
       "2006/2007    73.000000\n",
       "2009/2010    75.000000\n",
       "2010/2011    79.500000\n",
       "2011/2012    84.500000\n",
       "2012/2013    83.571429\n",
       "2013/2014    84.333333\n",
       "2014/2015    86.000000\n",
       "2015/2016    89.000000\n",
       "Name: overall_rating, dtype: float64"
      ]
     },
     "execution_count": 138,
     "metadata": {},
     "output_type": "execute_result"
    }
   ],
   "source": [
    "neymar_season_rating"
   ]
  },
  {
   "cell_type": "code",
   "execution_count": 139,
   "metadata": {},
   "outputs": [
    {
     "data": {
      "text/plain": [
       "16.0"
      ]
     },
     "execution_count": 139,
     "metadata": {},
     "output_type": "execute_result"
    }
   ],
   "source": [
    "neymar_season_rating.max() - neymar_season_rating.min()"
   ]
  },
  {
   "cell_type": "code",
   "execution_count": 140,
   "metadata": {},
   "outputs": [],
   "source": [
    "df_Neuer_rating = df_player_ratings.loc[\n",
    "    df_player_ratings['player_fifa_api_id_x'] == 167495]\n"
   ]
  },
  {
   "cell_type": "code",
   "execution_count": 141,
   "metadata": {},
   "outputs": [
    {
     "data": {
      "image/png": "[encoded data removed]",
      "text/plain": [
       "<Figure size 432x288 with 1 Axes>"
      ]
     },
     "metadata": {
      "needs_background": "light"
     },
     "output_type": "display_data"
    }
   ],
   "source": [
    "df_Neuer_rating.plot(x='season', y='overall_rating',kind='line').invert_xaxis()\n"
   ]
  },
  {
   "cell_type": "code",
   "execution_count": 142,
   "metadata": {},
   "outputs": [],
   "source": [
    "Neuer_season_rating = df_Neuer_rating.groupby('season')['overall_rating'].mean()\n"
   ]
  },
  {
   "cell_type": "code",
   "execution_count": 143,
   "metadata": {},
   "outputs": [
    {
     "data": {
      "text/plain": [
       "season\n",
       "2006/2007    64.0\n",
       "2007/2008    80.0\n",
       "2008/2009    81.0\n",
       "2009/2010    83.5\n",
       "2010/2011    85.5\n",
       "2011/2012    86.5\n",
       "2012/2013    86.2\n",
       "2013/2014    86.4\n",
       "2014/2015    90.0\n",
       "2015/2016    90.0\n",
       "Name: overall_rating, dtype: float64"
      ]
     },
     "execution_count": 143,
     "metadata": {},
     "output_type": "execute_result"
    }
   ],
   "source": [
    "Neuer_season_rating"
   ]
  },
  {
   "cell_type": "code",
   "execution_count": 144,
   "metadata": {},
   "outputs": [
    {
     "data": {
      "text/plain": [
       "26.0"
      ]
     },
     "execution_count": 144,
     "metadata": {},
     "output_type": "execute_result"
    }
   ],
   "source": [
    "Neuer_season_rating.max() - Neuer_season_rating.min()"
   ]
  },
  {
   "cell_type": "code",
   "execution_count": 145,
   "metadata": {},
   "outputs": [],
   "source": [
    "#Most improved player is Suarez"
   ]
  },
  {
   "cell_type": "markdown",
   "metadata": {},
   "source": [
    "### Research Question 3  Characteristics with overall rating"
   ]
  },
  {
   "cell_type": "code",
   "execution_count": 146,
   "metadata": {},
   "outputs": [
    {
     "data": {
      "text/plain": [
       "<AxesSubplot:xlabel='dribbling', ylabel='overall_rating'>"
      ]
     },
     "execution_count": 146,
     "metadata": {},
     "output_type": "execute_result"
    },
    {
     "data": {
      "image/png": "[encoded data removed]",
      "text/plain": [
       "<Figure size 432x288 with 1 Axes>"
      ]
     },
     "metadata": {
      "needs_background": "light"
     },
     "output_type": "display_data"
    }
   ],
   "source": [
    "df_recent_player_rating.plot(x='dribbling', y='overall_rating', kind='scatter')"
   ]
  },
  {
   "cell_type": "code",
   "execution_count": 147,
   "metadata": {},
   "outputs": [
    {
     "data": {
      "text/plain": [
       "<AxesSubplot:xlabel='heading_accuracy', ylabel='overall_rating'>"
      ]
     },
     "execution_count": 147,
     "metadata": {},
     "output_type": "execute_result"
    },
    {
     "data": {
      "image/png": "[encoded data removed]",
      "text/plain": [
       "<Figure size 432x288 with 1 Axes>"
      ]
     },
     "metadata": {
      "needs_background": "light"
     },
     "output_type": "display_data"
    }
   ],
   "source": [
    "df_recent_player_rating.plot(x='heading_accuracy', y='overall_rating', kind='scatter')\n"
   ]
  },
  {
   "cell_type": "code",
   "execution_count": 148,
   "metadata": {},
   "outputs": [
    {
     "data": {
      "text/plain": [
       "<AxesSubplot:xlabel='agility', ylabel='overall_rating'>"
      ]
     },
     "execution_count": 148,
     "metadata": {},
     "output_type": "execute_result"
    },
    {
     "data": {
      "image/png": "[encoded data removed]",
      "text/plain": [
       "<Figure size 432x288 with 1 Axes>"
      ]
     },
     "metadata": {
      "needs_background": "light"
     },
     "output_type": "display_data"
    }
   ],
   "source": [
    "df_recent_player_rating.plot(x='agility', y='overall_rating', kind='scatter')\n"
   ]
  },
  {
   "cell_type": "code",
   "execution_count": 149,
   "metadata": {},
   "outputs": [
    {
     "data": {
      "text/plain": [
       "<AxesSubplot:xlabel='shot_power', ylabel='overall_rating'>"
      ]
     },
     "execution_count": 149,
     "metadata": {},
     "output_type": "execute_result"
    },
    {
     "data": {
      "image/png": "[encoded data removed]",
      "text/plain": [
       "<Figure size 432x288 with 1 Axes>"
      ]
     },
     "metadata": {
      "needs_background": "light"
     },
     "output_type": "display_data"
    }
   ],
   "source": [
    "df_recent_player_rating.plot(x='shot_power', y='overall_rating', kind='scatter')"
   ]
  },
  {
   "cell_type": "markdown",
   "metadata": {},
   "source": [
    "<a id='conclusions'></a>\n",
    "## Conclusions\n",
    " - The best European football player is Messi and the top 5 consist of Lionel Messi, Cristiano Ronaldo, Luis Suarez, Neymar, Manuel Neuer\n",
    " - Out of the top 5 Luis Surarez is the most improved player \n",
    " - The characteristics that affect a players overall score are dribbling, heading accuracy, agility and shot power"
   ]
  },
  {
   "cell_type": "code",
   "execution_count": 150,
   "metadata": {},
   "outputs": [
    {
     "data": {
      "text/plain": [
       "1"
      ]
     },
     "execution_count": 150,
     "metadata": {},
     "output_type": "execute_result"
    }
   ],
   "source": [
    "from subprocess import call\n",
    "call(['python', '-m', 'nbconvert', 'Investigate_a_Dataset.ipynb'])"
   ]
  }
 ],
 "metadata": {
  "interpreter": {
   "hash": "c91598f047eb1354a66e3bb37e3a31835546659b7aa54f0ce84568eb6dfeb9e5"
  },
  "kernelspec": {
   "display_name": "geo_env",
   "language": "python",
   "name": "python3"
  },
  "language_info": {
   "codemirror_mode": {
    "name": "ipython",
    "version": 3
   },
   "file_extension": ".py",
   "mimetype": "text/x-python",
   "name": "python",
   "nbconvert_exporter": "python",
   "pygments_lexer": "ipython3",
   "version": "3.8.8"
  }
 },
 "nbformat": 4,
 "nbformat_minor": 2
}
